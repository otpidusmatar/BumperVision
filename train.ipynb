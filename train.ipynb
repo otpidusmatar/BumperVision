{
 "cells": [
  {
   "cell_type": "code",
   "execution_count": 5,
   "metadata": {},
   "outputs": [],
   "source": [
    "from ultralytics import YOLO"
   ]
  },
  {
   "cell_type": "code",
   "execution_count": 2,
   "metadata": {},
   "outputs": [
    {
     "name": "stdout",
     "output_type": "stream",
     "text": [
      "loading Roboflow workspace...\n",
      "loading Roboflow project...\n",
      "Dependency ultralytics==8.0.196 is required but found version=8.1.9, to fix: `pip install ultralytics==8.0.196`\n"
     ]
    },
    {
     "name": "stderr",
     "output_type": "stream",
     "text": [
      "Downloading Dataset Version Zip in FRC-2024-4 to yolov8:: 100%|██████████| 390937/390937 [04:24<00:00, 1479.89it/s]"
     ]
    },
    {
     "name": "stdout",
     "output_type": "stream",
     "text": [
      "\n"
     ]
    },
    {
     "name": "stderr",
     "output_type": "stream",
     "text": [
      "\n",
      "Extracting Dataset Version Zip to FRC-2024-4 in yolov8:: 100%|██████████| 15867/15867 [00:05<00:00, 2665.98it/s]\n"
     ]
    }
   ],
   "source": [
    "from roboflow import Roboflow\n",
    "rf = Roboflow(api_key=\"Nice Try!\")\n",
    "project = rf.workspace(\"Something\").project(\"you'll never know!\")\n",
    "version = project.version(\"Hmm\")\n",
    "dataset = version.download(\"yolov8\")"
   ]
  },
  {
   "cell_type": "code",
   "execution_count": 6,
   "metadata": {},
   "outputs": [
    {
     "name": "stdout",
     "output_type": "stream",
     "text": [
      "New https://pypi.org/project/ultralytics/8.2.46 available 😃 Update with 'pip install -U ultralytics'\n",
      "Ultralytics YOLOv8.1.9 🚀 Python-3.11.5 torch-2.1.2 CPU (Apple M2)\n",
      "\u001b[34m\u001b[1mengine/trainer: \u001b[0mtask=detect, mode=train, model=main/yolo/model/v2noteandbumpermodel.pt, data=/Users/otpidusmatar/Documents/GitHub/BumperVision/FRC-2024-4/data.yaml, epochs=5, time=None, patience=50, batch=16, imgsz=640, save=True, save_period=-1, cache=False, device=None, workers=8, project=None, name=train4, exist_ok=False, pretrained=True, optimizer=auto, verbose=True, seed=0, deterministic=True, single_cls=False, rect=False, cos_lr=False, close_mosaic=10, resume=False, amp=True, fraction=1.0, profile=False, freeze=None, multi_scale=False, overlap_mask=True, mask_ratio=4, dropout=0.0, val=True, split=val, save_json=False, save_hybrid=False, conf=None, iou=0.7, max_det=300, half=False, dnn=False, plots=True, source=None, vid_stride=1, stream_buffer=False, visualize=False, augment=False, agnostic_nms=False, classes=None, retina_masks=False, embed=None, show=False, save_frames=False, save_txt=False, save_conf=False, save_crop=False, show_labels=True, show_conf=True, show_boxes=True, line_width=None, format=torchscript, keras=False, optimize=False, int8=False, dynamic=False, simplify=False, opset=None, workspace=4, nms=False, lr0=0.01, lrf=0.01, momentum=0.937, weight_decay=0.0005, warmup_epochs=3.0, warmup_momentum=0.8, warmup_bias_lr=0.1, box=7.5, cls=0.5, dfl=1.5, pose=12.0, kobj=1.0, label_smoothing=0.0, nbs=64, hsv_h=0.015, hsv_s=0.7, hsv_v=0.4, degrees=0.0, translate=0.1, scale=0.5, shear=0.0, perspective=0.0, flipud=0.0, fliplr=0.5, mosaic=1.0, mixup=0.0, copy_paste=0.0, auto_augment=randaugment, erasing=0.4, crop_fraction=1.0, cfg=None, tracker=botsort.yaml, save_dir=/Users/Shared/Files From d.localized/Blindsight/runs/detect/train4\n",
      "\n",
      "                   from  n    params  module                                       arguments                     \n",
      "  0                  -1  1       464  ultralytics.nn.modules.conv.Conv             [3, 16, 3, 2]                 \n",
      "  1                  -1  1      4672  ultralytics.nn.modules.conv.Conv             [16, 32, 3, 2]                \n",
      "  2                  -1  1      7360  ultralytics.nn.modules.block.C2f             [32, 32, 1, True]             \n",
      "  3                  -1  1     18560  ultralytics.nn.modules.conv.Conv             [32, 64, 3, 2]                \n",
      "  4                  -1  2     49664  ultralytics.nn.modules.block.C2f             [64, 64, 2, True]             \n",
      "  5                  -1  1     73984  ultralytics.nn.modules.conv.Conv             [64, 128, 3, 2]               \n",
      "  6                  -1  2    197632  ultralytics.nn.modules.block.C2f             [128, 128, 2, True]           \n",
      "  7                  -1  1    295424  ultralytics.nn.modules.conv.Conv             [128, 256, 3, 2]              \n",
      "  8                  -1  1    460288  ultralytics.nn.modules.block.C2f             [256, 256, 1, True]           \n",
      "  9                  -1  1    164608  ultralytics.nn.modules.block.SPPF            [256, 256, 5]                 \n",
      " 10                  -1  1         0  torch.nn.modules.upsampling.Upsample         [None, 2, 'nearest']          \n",
      " 11             [-1, 6]  1         0  ultralytics.nn.modules.conv.Concat           [1]                           \n",
      " 12                  -1  1    148224  ultralytics.nn.modules.block.C2f             [384, 128, 1]                 \n",
      " 13                  -1  1         0  torch.nn.modules.upsampling.Upsample         [None, 2, 'nearest']          \n",
      " 14             [-1, 4]  1         0  ultralytics.nn.modules.conv.Concat           [1]                           \n",
      " 15                  -1  1     37248  ultralytics.nn.modules.block.C2f             [192, 64, 1]                  \n",
      " 16                  -1  1     36992  ultralytics.nn.modules.conv.Conv             [64, 64, 3, 2]                \n",
      " 17            [-1, 12]  1         0  ultralytics.nn.modules.conv.Concat           [1]                           \n",
      " 18                  -1  1    123648  ultralytics.nn.modules.block.C2f             [192, 128, 1]                 \n",
      " 19                  -1  1    147712  ultralytics.nn.modules.conv.Conv             [128, 128, 3, 2]              \n",
      " 20             [-1, 9]  1         0  ultralytics.nn.modules.conv.Concat           [1]                           \n",
      " 21                  -1  1    493056  ultralytics.nn.modules.block.C2f             [384, 256, 1]                 \n",
      " 22        [15, 18, 21]  1    751702  ultralytics.nn.modules.head.Detect           [2, [64, 128, 256]]           \n",
      "Model summary: 225 layers, 3011238 parameters, 3011222 gradients, 8.2 GFLOPs\n",
      "\n",
      "Transferred 355/355 items from pretrained weights\n",
      "\u001b[34m\u001b[1mTensorBoard: \u001b[0mStart with 'tensorboard --logdir /Users/Shared/Files From d.localized/Blindsight/runs/detect/train4', view at http://localhost:6006/\n",
      "Freezing layer 'model.22.dfl.conv.weight'\n"
     ]
    },
    {
     "name": "stderr",
     "output_type": "stream",
     "text": [
      "\u001b[34m\u001b[1mtrain: \u001b[0mScanning /Users/otpidusmatar/Documents/GitHub/BumperVision/FRC-2024-4/valid/labels... 621 images, 100 backgrounds, 0 corrupt: 100%|██████████| 621/621 [00:00<00:00, 3204.13it/s]"
     ]
    },
    {
     "name": "stdout",
     "output_type": "stream",
     "text": [
      "\u001b[34m\u001b[1mtrain: \u001b[0mWARNING ⚠️ /Users/otpidusmatar/Documents/GitHub/BumperVision/FRC-2024-4/valid/images/PXL_20240110_011118403_TS_mp4-10_jpg.rf.058cd036cad3197ea303a94a3f326f10.jpg: 1 duplicate labels removed\n",
      "\u001b[34m\u001b[1mtrain: \u001b[0mWARNING ⚠️ /Users/otpidusmatar/Documents/GitHub/BumperVision/FRC-2024-4/valid/images/youtube-163_jpg.rf.fbafab2d0c1d9d71e13b8b6a82175892.jpg: 1 duplicate labels removed\n",
      "\u001b[34m\u001b[1mtrain: \u001b[0mWARNING ⚠️ /Users/otpidusmatar/Documents/GitHub/BumperVision/FRC-2024-4/valid/images/youtube-190_jpg.rf.123c44a1617c3d93536f16985499b1e3.jpg: 1 duplicate labels removed\n",
      "\u001b[34m\u001b[1mtrain: \u001b[0mWARNING ⚠️ /Users/otpidusmatar/Documents/GitHub/BumperVision/FRC-2024-4/valid/images/youtube-210_jpg.rf.d80546f58da6d3fad7bd80b049638ff7.jpg: 1 duplicate labels removed\n",
      "\u001b[34m\u001b[1mtrain: \u001b[0mWARNING ⚠️ /Users/otpidusmatar/Documents/GitHub/BumperVision/FRC-2024-4/valid/images/youtube-23_jpg.rf.4ee34b6c540519d6ede76f5bab922dc8.jpg: 1 duplicate labels removed\n",
      "\u001b[34m\u001b[1mtrain: \u001b[0mWARNING ⚠️ /Users/otpidusmatar/Documents/GitHub/BumperVision/FRC-2024-4/valid/images/youtube-292_jpg.rf.f54fdd913b0ee13700e7e7ff0e19a40d.jpg: 4 duplicate labels removed\n",
      "\u001b[34m\u001b[1mtrain: \u001b[0mWARNING ⚠️ /Users/otpidusmatar/Documents/GitHub/BumperVision/FRC-2024-4/valid/images/youtube-303_jpg.rf.3e11aebc8067e0049a3ab4e261de745e.jpg: 1 duplicate labels removed\n",
      "\u001b[34m\u001b[1mtrain: \u001b[0mWARNING ⚠️ /Users/otpidusmatar/Documents/GitHub/BumperVision/FRC-2024-4/valid/images/youtube-68_jpg.rf.b972318baa62b89e01bc2b53e07bf354.jpg: 2 duplicate labels removed\n",
      "\u001b[34m\u001b[1mtrain: \u001b[0mWARNING ⚠️ /Users/otpidusmatar/Documents/GitHub/BumperVision/FRC-2024-4/valid/images/youtube-75_jpg.rf.8e0d4105a63d82232c9ae5c98cfd9b81.jpg: 1 duplicate labels removed\n"
     ]
    },
    {
     "name": "stderr",
     "output_type": "stream",
     "text": [
      "\n"
     ]
    },
    {
     "name": "stdout",
     "output_type": "stream",
     "text": [
      "\u001b[34m\u001b[1mtrain: \u001b[0mNew cache created: /Users/otpidusmatar/Documents/GitHub/BumperVision/FRC-2024-4/valid/labels.cache\n"
     ]
    },
    {
     "name": "stderr",
     "output_type": "stream",
     "text": [
      "\u001b[34m\u001b[1mval: \u001b[0mScanning /Users/otpidusmatar/Documents/GitHub/BumperVision/FRC-2024-4/train/labels.cache... 6510 images, 1020 backgrounds, 0 corrupt: 100%|██████████| 6510/6510 [00:00<?, ?it/s]"
     ]
    },
    {
     "name": "stdout",
     "output_type": "stream",
     "text": [
      "\u001b[34m\u001b[1mtrain: \u001b[0mWARNING ⚠️ /Users/otpidusmatar/Documents/GitHub/BumperVision/FRC-2024-4/train/images/PXL_20240110_011118403_TS_mp4-21_jpg.rf.3295cf2ac0ace0d85c9c500483cde69b.jpg: 1 duplicate labels removed\n",
      "\u001b[34m\u001b[1mtrain: \u001b[0mWARNING ⚠️ /Users/otpidusmatar/Documents/GitHub/BumperVision/FRC-2024-4/train/images/PXL_20240110_011118403_TS_mp4-21_jpg.rf.62a731fffa15ad64b0c1883a7d4abb8a.jpg: 1 duplicate labels removed\n",
      "\u001b[34m\u001b[1mtrain: \u001b[0mWARNING ⚠️ /Users/otpidusmatar/Documents/GitHub/BumperVision/FRC-2024-4/train/images/PXL_20240110_011118403_TS_mp4-21_jpg.rf.b925e34eba9d057e4d61c64ee1e110a5.jpg: 1 duplicate labels removed\n",
      "\u001b[34m\u001b[1mtrain: \u001b[0mWARNING ⚠️ /Users/otpidusmatar/Documents/GitHub/BumperVision/FRC-2024-4/train/images/PXL_20240110_011118403_TS_mp4-39_jpg.rf.3d684c03040ef619d1a2b359a71c2822.jpg: 1 duplicate labels removed\n",
      "\u001b[34m\u001b[1mtrain: \u001b[0mWARNING ⚠️ /Users/otpidusmatar/Documents/GitHub/BumperVision/FRC-2024-4/train/images/PXL_20240110_011118403_TS_mp4-39_jpg.rf.67893e1b5e3b9bee620f948fccd0c01f.jpg: 1 duplicate labels removed\n",
      "\u001b[34m\u001b[1mtrain: \u001b[0mWARNING ⚠️ /Users/otpidusmatar/Documents/GitHub/BumperVision/FRC-2024-4/train/images/PXL_20240110_011118403_TS_mp4-39_jpg.rf.c82165478dbaa3600650dc14f962352b.jpg: 1 duplicate labels removed\n",
      "\u001b[34m\u001b[1mtrain: \u001b[0mWARNING ⚠️ /Users/otpidusmatar/Documents/GitHub/BumperVision/FRC-2024-4/train/images/youtube-109_jpg.rf.4110fbdcae523adee03e5710f2ce2dd5.jpg: 2 duplicate labels removed\n",
      "\u001b[34m\u001b[1mtrain: \u001b[0mWARNING ⚠️ /Users/otpidusmatar/Documents/GitHub/BumperVision/FRC-2024-4/train/images/youtube-109_jpg.rf.69a4e4a4a007d0f2754dec29132d4cc7.jpg: 2 duplicate labels removed\n",
      "\u001b[34m\u001b[1mtrain: \u001b[0mWARNING ⚠️ /Users/otpidusmatar/Documents/GitHub/BumperVision/FRC-2024-4/train/images/youtube-109_jpg.rf.99b3e4f9d5e081bf25d08ff4fcece98c.jpg: 2 duplicate labels removed\n",
      "\u001b[34m\u001b[1mtrain: \u001b[0mWARNING ⚠️ /Users/otpidusmatar/Documents/GitHub/BumperVision/FRC-2024-4/train/images/youtube-11_jpg.rf.574984f41764efda83077ed2b378322d.jpg: 2 duplicate labels removed\n",
      "\u001b[34m\u001b[1mtrain: \u001b[0mWARNING ⚠️ /Users/otpidusmatar/Documents/GitHub/BumperVision/FRC-2024-4/train/images/youtube-11_jpg.rf.9a3b69a284ad87b30cabd345fca4dbd8.jpg: 2 duplicate labels removed\n",
      "\u001b[34m\u001b[1mtrain: \u001b[0mWARNING ⚠️ /Users/otpidusmatar/Documents/GitHub/BumperVision/FRC-2024-4/train/images/youtube-11_jpg.rf.9c1ee83ca8de66ff72048a08cc81120b.jpg: 1 duplicate labels removed\n",
      "\u001b[34m\u001b[1mtrain: \u001b[0mWARNING ⚠️ /Users/otpidusmatar/Documents/GitHub/BumperVision/FRC-2024-4/train/images/youtube-11_jpg.rf.c1a38bc88ff907335cb77f5f962e03af.jpg: 2 duplicate labels removed\n",
      "\u001b[34m\u001b[1mtrain: \u001b[0mWARNING ⚠️ /Users/otpidusmatar/Documents/GitHub/BumperVision/FRC-2024-4/train/images/youtube-11_jpg.rf.fa121d87be1185f99171972c8943c04e.jpg: 1 duplicate labels removed\n",
      "\u001b[34m\u001b[1mtrain: \u001b[0mWARNING ⚠️ /Users/otpidusmatar/Documents/GitHub/BumperVision/FRC-2024-4/train/images/youtube-11_jpg.rf.fcfca6b4b2986f8f36ca232cf9ff85d9.jpg: 1 duplicate labels removed\n",
      "\u001b[34m\u001b[1mtrain: \u001b[0mWARNING ⚠️ /Users/otpidusmatar/Documents/GitHub/BumperVision/FRC-2024-4/train/images/youtube-125_jpg.rf.52e6e2dc808aeda11aeaf8b7f85b9d63.jpg: 1 duplicate labels removed\n",
      "\u001b[34m\u001b[1mtrain: \u001b[0mWARNING ⚠️ /Users/otpidusmatar/Documents/GitHub/BumperVision/FRC-2024-4/train/images/youtube-125_jpg.rf.9c3b5933242e35b178bb3c6c5bd7bd4a.jpg: 1 duplicate labels removed\n",
      "\u001b[34m\u001b[1mtrain: \u001b[0mWARNING ⚠️ /Users/otpidusmatar/Documents/GitHub/BumperVision/FRC-2024-4/train/images/youtube-125_jpg.rf.b3faa58ac3a548c2277f420be00a19aa.jpg: 1 duplicate labels removed\n",
      "\u001b[34m\u001b[1mtrain: \u001b[0mWARNING ⚠️ /Users/otpidusmatar/Documents/GitHub/BumperVision/FRC-2024-4/train/images/youtube-128_jpg.rf.1e42a868278480ffa4258ba0be21f0e6.jpg: 3 duplicate labels removed\n",
      "\u001b[34m\u001b[1mtrain: \u001b[0mWARNING ⚠️ /Users/otpidusmatar/Documents/GitHub/BumperVision/FRC-2024-4/train/images/youtube-128_jpg.rf.932dd2c86650299c0917277f0ed07041.jpg: 3 duplicate labels removed\n",
      "\u001b[34m\u001b[1mtrain: \u001b[0mWARNING ⚠️ /Users/otpidusmatar/Documents/GitHub/BumperVision/FRC-2024-4/train/images/youtube-128_jpg.rf.fe006947029efa3131ab45d1393b45f4.jpg: 3 duplicate labels removed\n",
      "\u001b[34m\u001b[1mtrain: \u001b[0mWARNING ⚠️ /Users/otpidusmatar/Documents/GitHub/BumperVision/FRC-2024-4/train/images/youtube-12_jpg.rf.545e750fd7bd6d3374ed166a28cb962d.jpg: 1 duplicate labels removed\n",
      "\u001b[34m\u001b[1mtrain: \u001b[0mWARNING ⚠️ /Users/otpidusmatar/Documents/GitHub/BumperVision/FRC-2024-4/train/images/youtube-12_jpg.rf.708f1da0769731a5c18c7a7a1ccc897e.jpg: 1 duplicate labels removed\n",
      "\u001b[34m\u001b[1mtrain: \u001b[0mWARNING ⚠️ /Users/otpidusmatar/Documents/GitHub/BumperVision/FRC-2024-4/train/images/youtube-12_jpg.rf.9937fef40d17c8ec52cbb0ec5bbdbf31.jpg: 1 duplicate labels removed\n",
      "\u001b[34m\u001b[1mtrain: \u001b[0mWARNING ⚠️ /Users/otpidusmatar/Documents/GitHub/BumperVision/FRC-2024-4/train/images/youtube-130_jpg.rf.79599e7887d2d6c0da8e690b559a2232.jpg: 1 duplicate labels removed\n",
      "\u001b[34m\u001b[1mtrain: \u001b[0mWARNING ⚠️ /Users/otpidusmatar/Documents/GitHub/BumperVision/FRC-2024-4/train/images/youtube-130_jpg.rf.9237c6cf6868ff8c53c6b1923421e3a0.jpg: 1 duplicate labels removed\n",
      "\u001b[34m\u001b[1mtrain: \u001b[0mWARNING ⚠️ /Users/otpidusmatar/Documents/GitHub/BumperVision/FRC-2024-4/train/images/youtube-130_jpg.rf.9fe78cf1aa228fc69829553c2b9d078d.jpg: 1 duplicate labels removed\n",
      "\u001b[34m\u001b[1mtrain: \u001b[0mWARNING ⚠️ /Users/otpidusmatar/Documents/GitHub/BumperVision/FRC-2024-4/train/images/youtube-139_jpg.rf.2a15d78d13a659f410ffd74f3e0d7b60.jpg: 1 duplicate labels removed\n",
      "\u001b[34m\u001b[1mtrain: \u001b[0mWARNING ⚠️ /Users/otpidusmatar/Documents/GitHub/BumperVision/FRC-2024-4/train/images/youtube-139_jpg.rf.72b30dd1d0606279d91fe71dede6d629.jpg: 1 duplicate labels removed\n",
      "\u001b[34m\u001b[1mtrain: \u001b[0mWARNING ⚠️ /Users/otpidusmatar/Documents/GitHub/BumperVision/FRC-2024-4/train/images/youtube-139_jpg.rf.f43b77265d71a98bc7892bd3d15d598b.jpg: 1 duplicate labels removed\n",
      "\u001b[34m\u001b[1mtrain: \u001b[0mWARNING ⚠️ /Users/otpidusmatar/Documents/GitHub/BumperVision/FRC-2024-4/train/images/youtube-13_jpg.rf.34dfca2ae6f0e05e0c8adf04d886c5ae.jpg: 6 duplicate labels removed\n",
      "\u001b[34m\u001b[1mtrain: \u001b[0mWARNING ⚠️ /Users/otpidusmatar/Documents/GitHub/BumperVision/FRC-2024-4/train/images/youtube-13_jpg.rf.50e39b7305ebcd2b25fae55379bdab30.jpg: 6 duplicate labels removed\n",
      "\u001b[34m\u001b[1mtrain: \u001b[0mWARNING ⚠️ /Users/otpidusmatar/Documents/GitHub/BumperVision/FRC-2024-4/train/images/youtube-13_jpg.rf.a004282dc6f3e921a0724f192fd3b62c.jpg: 6 duplicate labels removed\n",
      "\u001b[34m\u001b[1mtrain: \u001b[0mWARNING ⚠️ /Users/otpidusmatar/Documents/GitHub/BumperVision/FRC-2024-4/train/images/youtube-142_jpg.rf.11ac075751a2e76f64fdbf055f74e902.jpg: 1 duplicate labels removed\n",
      "\u001b[34m\u001b[1mtrain: \u001b[0mWARNING ⚠️ /Users/otpidusmatar/Documents/GitHub/BumperVision/FRC-2024-4/train/images/youtube-142_jpg.rf.33bc7d864b040f23e8b4a3060ca6d4cf.jpg: 1 duplicate labels removed\n",
      "\u001b[34m\u001b[1mtrain: \u001b[0mWARNING ⚠️ /Users/otpidusmatar/Documents/GitHub/BumperVision/FRC-2024-4/train/images/youtube-142_jpg.rf.6b964b706926fe5d99082e5950b5ac30.jpg: 1 duplicate labels removed\n",
      "\u001b[34m\u001b[1mtrain: \u001b[0mWARNING ⚠️ /Users/otpidusmatar/Documents/GitHub/BumperVision/FRC-2024-4/train/images/youtube-142_jpg.rf.7c4d1cadf5d4b901c1e5bfa6d54b6a40.jpg: 1 duplicate labels removed\n",
      "\u001b[34m\u001b[1mtrain: \u001b[0mWARNING ⚠️ /Users/otpidusmatar/Documents/GitHub/BumperVision/FRC-2024-4/train/images/youtube-142_jpg.rf.8aa95470e0115618e9c37358634fd85d.jpg: 1 duplicate labels removed\n",
      "\u001b[34m\u001b[1mtrain: \u001b[0mWARNING ⚠️ /Users/otpidusmatar/Documents/GitHub/BumperVision/FRC-2024-4/train/images/youtube-142_jpg.rf.f4f0a24910939cb9f052e09f4b2194ed.jpg: 1 duplicate labels removed\n",
      "\u001b[34m\u001b[1mtrain: \u001b[0mWARNING ⚠️ /Users/otpidusmatar/Documents/GitHub/BumperVision/FRC-2024-4/train/images/youtube-143_jpg.rf.1f7c9da1afedea50222517135d3336ae.jpg: 1 duplicate labels removed\n",
      "\u001b[34m\u001b[1mtrain: \u001b[0mWARNING ⚠️ /Users/otpidusmatar/Documents/GitHub/BumperVision/FRC-2024-4/train/images/youtube-143_jpg.rf.811379f6ff1ef34a663c09e44818ed10.jpg: 1 duplicate labels removed\n",
      "\u001b[34m\u001b[1mtrain: \u001b[0mWARNING ⚠️ /Users/otpidusmatar/Documents/GitHub/BumperVision/FRC-2024-4/train/images/youtube-143_jpg.rf.9ed8be6f721f4052b7beddad9703aa86.jpg: 1 duplicate labels removed\n",
      "\u001b[34m\u001b[1mtrain: \u001b[0mWARNING ⚠️ /Users/otpidusmatar/Documents/GitHub/BumperVision/FRC-2024-4/train/images/youtube-14_jpg.rf.3c7ca8d2c433c60d3260c3ce19bf6089.jpg: 1 duplicate labels removed\n",
      "\u001b[34m\u001b[1mtrain: \u001b[0mWARNING ⚠️ /Users/otpidusmatar/Documents/GitHub/BumperVision/FRC-2024-4/train/images/youtube-14_jpg.rf.9d2417668539017e3120626cce3ef99b.jpg: 1 duplicate labels removed\n",
      "\u001b[34m\u001b[1mtrain: \u001b[0mWARNING ⚠️ /Users/otpidusmatar/Documents/GitHub/BumperVision/FRC-2024-4/train/images/youtube-14_jpg.rf.ff604988b03b4d2c6b038911774211e7.jpg: 1 duplicate labels removed\n",
      "\u001b[34m\u001b[1mtrain: \u001b[0mWARNING ⚠️ /Users/otpidusmatar/Documents/GitHub/BumperVision/FRC-2024-4/train/images/youtube-151_jpg.rf.3224fec42b40a7c0375e228c8b809749.jpg: 2 duplicate labels removed\n",
      "\u001b[34m\u001b[1mtrain: \u001b[0mWARNING ⚠️ /Users/otpidusmatar/Documents/GitHub/BumperVision/FRC-2024-4/train/images/youtube-151_jpg.rf.50b508db7164755e8ebbe6456ee95679.jpg: 2 duplicate labels removed\n",
      "\u001b[34m\u001b[1mtrain: \u001b[0mWARNING ⚠️ /Users/otpidusmatar/Documents/GitHub/BumperVision/FRC-2024-4/train/images/youtube-151_jpg.rf.aa1d3a172d4d307073174869254bc207.jpg: 2 duplicate labels removed\n",
      "\u001b[34m\u001b[1mtrain: \u001b[0mWARNING ⚠️ /Users/otpidusmatar/Documents/GitHub/BumperVision/FRC-2024-4/train/images/youtube-164_jpg.rf.537c08749296e68a25b9eac31023efb4.jpg: 1 duplicate labels removed\n",
      "\u001b[34m\u001b[1mtrain: \u001b[0mWARNING ⚠️ /Users/otpidusmatar/Documents/GitHub/BumperVision/FRC-2024-4/train/images/youtube-164_jpg.rf.b83376ca5a717a6243d210ab16b6f74f.jpg: 1 duplicate labels removed\n",
      "\u001b[34m\u001b[1mtrain: \u001b[0mWARNING ⚠️ /Users/otpidusmatar/Documents/GitHub/BumperVision/FRC-2024-4/train/images/youtube-164_jpg.rf.e55ad9d1de8e25689613d9291cd91b85.jpg: 1 duplicate labels removed\n",
      "\u001b[34m\u001b[1mtrain: \u001b[0mWARNING ⚠️ /Users/otpidusmatar/Documents/GitHub/BumperVision/FRC-2024-4/train/images/youtube-16_jpg.rf.10513ecdf3bee8345ed2d16f3d151148.jpg: 1 duplicate labels removed\n",
      "\u001b[34m\u001b[1mtrain: \u001b[0mWARNING ⚠️ /Users/otpidusmatar/Documents/GitHub/BumperVision/FRC-2024-4/train/images/youtube-16_jpg.rf.a7b16475bcdf3505bb85cf81986f549c.jpg: 1 duplicate labels removed\n",
      "\u001b[34m\u001b[1mtrain: \u001b[0mWARNING ⚠️ /Users/otpidusmatar/Documents/GitHub/BumperVision/FRC-2024-4/train/images/youtube-16_jpg.rf.fe4fc18fa31da0d046a512f99219659b.jpg: 1 duplicate labels removed\n",
      "\u001b[34m\u001b[1mtrain: \u001b[0mWARNING ⚠️ /Users/otpidusmatar/Documents/GitHub/BumperVision/FRC-2024-4/train/images/youtube-175_jpg.rf.3209226eb8d6a1f42347faaf0d0cdcf5.jpg: 1 duplicate labels removed\n",
      "\u001b[34m\u001b[1mtrain: \u001b[0mWARNING ⚠️ /Users/otpidusmatar/Documents/GitHub/BumperVision/FRC-2024-4/train/images/youtube-175_jpg.rf.8818842f0edd8c0d1603cea330a99db4.jpg: 1 duplicate labels removed\n",
      "\u001b[34m\u001b[1mtrain: \u001b[0mWARNING ⚠️ /Users/otpidusmatar/Documents/GitHub/BumperVision/FRC-2024-4/train/images/youtube-175_jpg.rf.910abab2b36234983d8eea6959b14a3e.jpg: 1 duplicate labels removed\n",
      "\u001b[34m\u001b[1mtrain: \u001b[0mWARNING ⚠️ /Users/otpidusmatar/Documents/GitHub/BumperVision/FRC-2024-4/train/images/youtube-183_jpg.rf.1e5c99ae059f53cc90a66e4639c8f0fd.jpg: 1 duplicate labels removed\n",
      "\u001b[34m\u001b[1mtrain: \u001b[0mWARNING ⚠️ /Users/otpidusmatar/Documents/GitHub/BumperVision/FRC-2024-4/train/images/youtube-183_jpg.rf.424d6cd6159277dbe162d5716303290e.jpg: 1 duplicate labels removed\n",
      "\u001b[34m\u001b[1mtrain: \u001b[0mWARNING ⚠️ /Users/otpidusmatar/Documents/GitHub/BumperVision/FRC-2024-4/train/images/youtube-183_jpg.rf.d435c7c4755f9192eab8df92c59707ac.jpg: 1 duplicate labels removed\n",
      "\u001b[34m\u001b[1mtrain: \u001b[0mWARNING ⚠️ /Users/otpidusmatar/Documents/GitHub/BumperVision/FRC-2024-4/train/images/youtube-185_jpg.rf.6468527344a064519d16d9b64e28b2e6.jpg: 1 duplicate labels removed\n",
      "\u001b[34m\u001b[1mtrain: \u001b[0mWARNING ⚠️ /Users/otpidusmatar/Documents/GitHub/BumperVision/FRC-2024-4/train/images/youtube-185_jpg.rf.7995bd08b155167b6de61c20e225b6c0.jpg: 1 duplicate labels removed\n",
      "\u001b[34m\u001b[1mtrain: \u001b[0mWARNING ⚠️ /Users/otpidusmatar/Documents/GitHub/BumperVision/FRC-2024-4/train/images/youtube-185_jpg.rf.bcb955f5dbbfa3b4586fe4474ac90b1b.jpg: 1 duplicate labels removed\n",
      "\u001b[34m\u001b[1mtrain: \u001b[0mWARNING ⚠️ /Users/otpidusmatar/Documents/GitHub/BumperVision/FRC-2024-4/train/images/youtube-18_jpg.rf.0f5da2feb7091b0eecd5670e1680872a.jpg: 1 duplicate labels removed\n",
      "\u001b[34m\u001b[1mtrain: \u001b[0mWARNING ⚠️ /Users/otpidusmatar/Documents/GitHub/BumperVision/FRC-2024-4/train/images/youtube-18_jpg.rf.3955891066f7ae926f6e834273da4157.jpg: 1 duplicate labels removed\n",
      "\u001b[34m\u001b[1mtrain: \u001b[0mWARNING ⚠️ /Users/otpidusmatar/Documents/GitHub/BumperVision/FRC-2024-4/train/images/youtube-18_jpg.rf.9e207ef969f8550a17d51ba9722f985b.jpg: 1 duplicate labels removed\n",
      "\u001b[34m\u001b[1mtrain: \u001b[0mWARNING ⚠️ /Users/otpidusmatar/Documents/GitHub/BumperVision/FRC-2024-4/train/images/youtube-19_jpg.rf.7b34721e952140bfe7d40f74a674c44c.jpg: 1 duplicate labels removed\n",
      "\u001b[34m\u001b[1mtrain: \u001b[0mWARNING ⚠️ /Users/otpidusmatar/Documents/GitHub/BumperVision/FRC-2024-4/train/images/youtube-19_jpg.rf.daad33d19c2c574d85704c198e2673b5.jpg: 1 duplicate labels removed\n",
      "\u001b[34m\u001b[1mtrain: \u001b[0mWARNING ⚠️ /Users/otpidusmatar/Documents/GitHub/BumperVision/FRC-2024-4/train/images/youtube-19_jpg.rf.f594356234a645509d735ede978aa77f.jpg: 1 duplicate labels removed\n",
      "\u001b[34m\u001b[1mtrain: \u001b[0mWARNING ⚠️ /Users/otpidusmatar/Documents/GitHub/BumperVision/FRC-2024-4/train/images/youtube-217_jpg.rf.6c083897fc49023f6b3cb7c44126464f.jpg: 1 duplicate labels removed\n",
      "\u001b[34m\u001b[1mtrain: \u001b[0mWARNING ⚠️ /Users/otpidusmatar/Documents/GitHub/BumperVision/FRC-2024-4/train/images/youtube-217_jpg.rf.d650608a65fff5987e8e97cc37079a57.jpg: 1 duplicate labels removed\n",
      "\u001b[34m\u001b[1mtrain: \u001b[0mWARNING ⚠️ /Users/otpidusmatar/Documents/GitHub/BumperVision/FRC-2024-4/train/images/youtube-217_jpg.rf.f635d6a9c74110cb67c6fc44d109984b.jpg: 1 duplicate labels removed\n",
      "\u001b[34m\u001b[1mtrain: \u001b[0mWARNING ⚠️ /Users/otpidusmatar/Documents/GitHub/BumperVision/FRC-2024-4/train/images/youtube-219_jpg.rf.436766ca83f4b7078358803c4119a6c4.jpg: 4 duplicate labels removed\n",
      "\u001b[34m\u001b[1mtrain: \u001b[0mWARNING ⚠️ /Users/otpidusmatar/Documents/GitHub/BumperVision/FRC-2024-4/train/images/youtube-219_jpg.rf.67f15af20be0c949e29e8673b1aaff78.jpg: 4 duplicate labels removed\n",
      "\u001b[34m\u001b[1mtrain: \u001b[0mWARNING ⚠️ /Users/otpidusmatar/Documents/GitHub/BumperVision/FRC-2024-4/train/images/youtube-219_jpg.rf.9a4393a10c78359c68216c86bf657c8c.jpg: 4 duplicate labels removed\n",
      "\u001b[34m\u001b[1mtrain: \u001b[0mWARNING ⚠️ /Users/otpidusmatar/Documents/GitHub/BumperVision/FRC-2024-4/train/images/youtube-21_jpg.rf.213f6786603aa0fb1b5442b76e9de116.jpg: 1 duplicate labels removed\n",
      "\u001b[34m\u001b[1mtrain: \u001b[0mWARNING ⚠️ /Users/otpidusmatar/Documents/GitHub/BumperVision/FRC-2024-4/train/images/youtube-21_jpg.rf.36a2ca89ed973d6c3413fddeff869cdb.jpg: 1 duplicate labels removed\n",
      "\u001b[34m\u001b[1mtrain: \u001b[0mWARNING ⚠️ /Users/otpidusmatar/Documents/GitHub/BumperVision/FRC-2024-4/train/images/youtube-21_jpg.rf.4dff050dd16aee1bbc906207e14aafff.jpg: 1 duplicate labels removed\n",
      "\u001b[34m\u001b[1mtrain: \u001b[0mWARNING ⚠️ /Users/otpidusmatar/Documents/GitHub/BumperVision/FRC-2024-4/train/images/youtube-220_jpg.rf.0cf24516dbf79c017edd549967a1a56b.jpg: 1 duplicate labels removed\n",
      "\u001b[34m\u001b[1mtrain: \u001b[0mWARNING ⚠️ /Users/otpidusmatar/Documents/GitHub/BumperVision/FRC-2024-4/train/images/youtube-220_jpg.rf.1cf8c4a523be46349c27ca17943cc5f9.jpg: 1 duplicate labels removed\n",
      "\u001b[34m\u001b[1mtrain: \u001b[0mWARNING ⚠️ /Users/otpidusmatar/Documents/GitHub/BumperVision/FRC-2024-4/train/images/youtube-220_jpg.rf.53198a4632a7d199eecd2c5cde09f1c6.jpg: 1 duplicate labels removed\n",
      "\u001b[34m\u001b[1mtrain: \u001b[0mWARNING ⚠️ /Users/otpidusmatar/Documents/GitHub/BumperVision/FRC-2024-4/train/images/youtube-22_jpg.rf.00d8104b89b723e5186682beb21a81d6.jpg: 3 duplicate labels removed\n",
      "\u001b[34m\u001b[1mtrain: \u001b[0mWARNING ⚠️ /Users/otpidusmatar/Documents/GitHub/BumperVision/FRC-2024-4/train/images/youtube-22_jpg.rf.9192a1ab8ab6bea6c969daa7b97b29ab.jpg: 3 duplicate labels removed\n",
      "\u001b[34m\u001b[1mtrain: \u001b[0mWARNING ⚠️ /Users/otpidusmatar/Documents/GitHub/BumperVision/FRC-2024-4/train/images/youtube-22_jpg.rf.f212ea7934dfc6b5a075e9f70262415e.jpg: 3 duplicate labels removed\n",
      "\u001b[34m\u001b[1mtrain: \u001b[0mWARNING ⚠️ /Users/otpidusmatar/Documents/GitHub/BumperVision/FRC-2024-4/train/images/youtube-243_jpg.rf.1e02328864c6df398f314944f1725471.jpg: 1 duplicate labels removed\n",
      "\u001b[34m\u001b[1mtrain: \u001b[0mWARNING ⚠️ /Users/otpidusmatar/Documents/GitHub/BumperVision/FRC-2024-4/train/images/youtube-243_jpg.rf.5b6f63ca6b2e3f296930205541f65779.jpg: 1 duplicate labels removed\n",
      "\u001b[34m\u001b[1mtrain: \u001b[0mWARNING ⚠️ /Users/otpidusmatar/Documents/GitHub/BumperVision/FRC-2024-4/train/images/youtube-243_jpg.rf.9c018dbb18fab053d97ec0fd8612f38d.jpg: 1 duplicate labels removed\n",
      "\u001b[34m\u001b[1mtrain: \u001b[0mWARNING ⚠️ /Users/otpidusmatar/Documents/GitHub/BumperVision/FRC-2024-4/train/images/youtube-24_jpg.rf.1e398048d3af1265e8ad473254e574d6.jpg: 1 duplicate labels removed\n",
      "\u001b[34m\u001b[1mtrain: \u001b[0mWARNING ⚠️ /Users/otpidusmatar/Documents/GitHub/BumperVision/FRC-2024-4/train/images/youtube-24_jpg.rf.ca65257a8af5c3ca1dfafa8ddcb77210.jpg: 1 duplicate labels removed\n",
      "\u001b[34m\u001b[1mtrain: \u001b[0mWARNING ⚠️ /Users/otpidusmatar/Documents/GitHub/BumperVision/FRC-2024-4/train/images/youtube-24_jpg.rf.ddbba1eafbd2274582d3bff74e86b018.jpg: 1 duplicate labels removed\n",
      "\u001b[34m\u001b[1mtrain: \u001b[0mWARNING ⚠️ /Users/otpidusmatar/Documents/GitHub/BumperVision/FRC-2024-4/train/images/youtube-25_jpg.rf.3ca23cc634926e5750e8d6e852bb6646.jpg: 1 duplicate labels removed\n",
      "\u001b[34m\u001b[1mtrain: \u001b[0mWARNING ⚠️ /Users/otpidusmatar/Documents/GitHub/BumperVision/FRC-2024-4/train/images/youtube-25_jpg.rf.9321a00a66d0e3652ce2ad1862e7c7ff.jpg: 1 duplicate labels removed\n",
      "\u001b[34m\u001b[1mtrain: \u001b[0mWARNING ⚠️ /Users/otpidusmatar/Documents/GitHub/BumperVision/FRC-2024-4/train/images/youtube-25_jpg.rf.e416c3022e5f3992a8632767ffdf8353.jpg: 1 duplicate labels removed\n",
      "\u001b[34m\u001b[1mtrain: \u001b[0mWARNING ⚠️ /Users/otpidusmatar/Documents/GitHub/BumperVision/FRC-2024-4/train/images/youtube-26_jpg.rf.1b44913e6af55cd9f1b2867e06996953.jpg: 2 duplicate labels removed\n",
      "\u001b[34m\u001b[1mtrain: \u001b[0mWARNING ⚠️ /Users/otpidusmatar/Documents/GitHub/BumperVision/FRC-2024-4/train/images/youtube-26_jpg.rf.50fe6e029310c634e25ddc6d64a3ac3b.jpg: 3 duplicate labels removed\n",
      "\u001b[34m\u001b[1mtrain: \u001b[0mWARNING ⚠️ /Users/otpidusmatar/Documents/GitHub/BumperVision/FRC-2024-4/train/images/youtube-26_jpg.rf.6a121a5562d16807ce78f6c715c71afd.jpg: 2 duplicate labels removed\n",
      "\u001b[34m\u001b[1mtrain: \u001b[0mWARNING ⚠️ /Users/otpidusmatar/Documents/GitHub/BumperVision/FRC-2024-4/train/images/youtube-26_jpg.rf.db52ebeeae0329339856fe53953f01f4.jpg: 2 duplicate labels removed\n",
      "\u001b[34m\u001b[1mtrain: \u001b[0mWARNING ⚠️ /Users/otpidusmatar/Documents/GitHub/BumperVision/FRC-2024-4/train/images/youtube-26_jpg.rf.f1b5da8023fa796cbe84a86a9706eecf.jpg: 3 duplicate labels removed\n",
      "\u001b[34m\u001b[1mtrain: \u001b[0mWARNING ⚠️ /Users/otpidusmatar/Documents/GitHub/BumperVision/FRC-2024-4/train/images/youtube-26_jpg.rf.fea38ae827337920685312fefd2bc0e5.jpg: 3 duplicate labels removed\n",
      "\u001b[34m\u001b[1mtrain: \u001b[0mWARNING ⚠️ /Users/otpidusmatar/Documents/GitHub/BumperVision/FRC-2024-4/train/images/youtube-306_jpg.rf.447ce1d7d14d0796d9c3c31840f5c802.jpg: 1 duplicate labels removed\n",
      "\u001b[34m\u001b[1mtrain: \u001b[0mWARNING ⚠️ /Users/otpidusmatar/Documents/GitHub/BumperVision/FRC-2024-4/train/images/youtube-306_jpg.rf.75b4ca6090a12c113db981f6ab2297e9.jpg: 1 duplicate labels removed\n",
      "\u001b[34m\u001b[1mtrain: \u001b[0mWARNING ⚠️ /Users/otpidusmatar/Documents/GitHub/BumperVision/FRC-2024-4/train/images/youtube-306_jpg.rf.a0bbc8f9c2bf3c08ed3a639abc074dab.jpg: 1 duplicate labels removed\n",
      "\u001b[34m\u001b[1mtrain: \u001b[0mWARNING ⚠️ /Users/otpidusmatar/Documents/GitHub/BumperVision/FRC-2024-4/train/images/youtube-309_jpg.rf.35336e08f95b0bcf8108ccacb557cdb0.jpg: 1 duplicate labels removed\n",
      "\u001b[34m\u001b[1mtrain: \u001b[0mWARNING ⚠️ /Users/otpidusmatar/Documents/GitHub/BumperVision/FRC-2024-4/train/images/youtube-309_jpg.rf.b38da2f6f06338863f47f05b4412112f.jpg: 1 duplicate labels removed\n",
      "\u001b[34m\u001b[1mtrain: \u001b[0mWARNING ⚠️ /Users/otpidusmatar/Documents/GitHub/BumperVision/FRC-2024-4/train/images/youtube-309_jpg.rf.ec0abcec17738f691bbc822ea873b548.jpg: 1 duplicate labels removed\n",
      "\u001b[34m\u001b[1mtrain: \u001b[0mWARNING ⚠️ /Users/otpidusmatar/Documents/GitHub/BumperVision/FRC-2024-4/train/images/youtube-315_jpg.rf.0753c3fc42e0715ee5b8136ae13010f6.jpg: 3 duplicate labels removed\n",
      "\u001b[34m\u001b[1mtrain: \u001b[0mWARNING ⚠️ /Users/otpidusmatar/Documents/GitHub/BumperVision/FRC-2024-4/train/images/youtube-315_jpg.rf.42d558bd3c70c3be0abae4e1680bd5ea.jpg: 3 duplicate labels removed\n",
      "\u001b[34m\u001b[1mtrain: \u001b[0mWARNING ⚠️ /Users/otpidusmatar/Documents/GitHub/BumperVision/FRC-2024-4/train/images/youtube-315_jpg.rf.b6b03e5a5fc464d99aa05e8805cc1849.jpg: 3 duplicate labels removed\n",
      "\u001b[34m\u001b[1mtrain: \u001b[0mWARNING ⚠️ /Users/otpidusmatar/Documents/GitHub/BumperVision/FRC-2024-4/train/images/youtube-316_jpg.rf.7837e7d2f6969fa5acad3f177a998234.jpg: 1 duplicate labels removed\n",
      "\u001b[34m\u001b[1mtrain: \u001b[0mWARNING ⚠️ /Users/otpidusmatar/Documents/GitHub/BumperVision/FRC-2024-4/train/images/youtube-316_jpg.rf.a0bffdd5991bdcec0d476384fad15183.jpg: 1 duplicate labels removed\n",
      "\u001b[34m\u001b[1mtrain: \u001b[0mWARNING ⚠️ /Users/otpidusmatar/Documents/GitHub/BumperVision/FRC-2024-4/train/images/youtube-316_jpg.rf.e8b85fa5117c55aa5d68ca8fb5297e7d.jpg: 1 duplicate labels removed\n",
      "\u001b[34m\u001b[1mtrain: \u001b[0mWARNING ⚠️ /Users/otpidusmatar/Documents/GitHub/BumperVision/FRC-2024-4/train/images/youtube-318_jpg.rf.325a66c2cfc42a8dde9d63f303e9a7b2.jpg: 1 duplicate labels removed\n",
      "\u001b[34m\u001b[1mtrain: \u001b[0mWARNING ⚠️ /Users/otpidusmatar/Documents/GitHub/BumperVision/FRC-2024-4/train/images/youtube-318_jpg.rf.687d4d469ac0966cc281449e1aeab1d4.jpg: 1 duplicate labels removed\n",
      "\u001b[34m\u001b[1mtrain: \u001b[0mWARNING ⚠️ /Users/otpidusmatar/Documents/GitHub/BumperVision/FRC-2024-4/train/images/youtube-318_jpg.rf.747a8f1884eed738eb8a1148f846da48.jpg: 1 duplicate labels removed\n",
      "\u001b[34m\u001b[1mtrain: \u001b[0mWARNING ⚠️ /Users/otpidusmatar/Documents/GitHub/BumperVision/FRC-2024-4/train/images/youtube-325_jpg.rf.4e80a4317772e112a4dd4b0be4452adf.jpg: 1 duplicate labels removed\n",
      "\u001b[34m\u001b[1mtrain: \u001b[0mWARNING ⚠️ /Users/otpidusmatar/Documents/GitHub/BumperVision/FRC-2024-4/train/images/youtube-325_jpg.rf.b8c28c5e92b459300811f6d8370072e3.jpg: 1 duplicate labels removed\n",
      "\u001b[34m\u001b[1mtrain: \u001b[0mWARNING ⚠️ /Users/otpidusmatar/Documents/GitHub/BumperVision/FRC-2024-4/train/images/youtube-325_jpg.rf.d2df36f59883c0bf4498271b067e4417.jpg: 1 duplicate labels removed\n",
      "\u001b[34m\u001b[1mtrain: \u001b[0mWARNING ⚠️ /Users/otpidusmatar/Documents/GitHub/BumperVision/FRC-2024-4/train/images/youtube-327_jpg.rf.022803ab8bd8a0f2cc3e9554b009a06a.jpg: 1 duplicate labels removed\n",
      "\u001b[34m\u001b[1mtrain: \u001b[0mWARNING ⚠️ /Users/otpidusmatar/Documents/GitHub/BumperVision/FRC-2024-4/train/images/youtube-327_jpg.rf.186420c8a0cf05a5fee1072de8389e98.jpg: 1 duplicate labels removed\n",
      "\u001b[34m\u001b[1mtrain: \u001b[0mWARNING ⚠️ /Users/otpidusmatar/Documents/GitHub/BumperVision/FRC-2024-4/train/images/youtube-327_jpg.rf.5d9978b7ba8b35baf61a44d15f9f95ea.jpg: 1 duplicate labels removed\n",
      "\u001b[34m\u001b[1mtrain: \u001b[0mWARNING ⚠️ /Users/otpidusmatar/Documents/GitHub/BumperVision/FRC-2024-4/train/images/youtube-34_jpg.rf.b23c02342915f0995c0851a7cc496be6.jpg: 1 duplicate labels removed\n",
      "\u001b[34m\u001b[1mtrain: \u001b[0mWARNING ⚠️ /Users/otpidusmatar/Documents/GitHub/BumperVision/FRC-2024-4/train/images/youtube-34_jpg.rf.c8779b0c97d9ffada28b666cf8d5c0f1.jpg: 1 duplicate labels removed\n",
      "\u001b[34m\u001b[1mtrain: \u001b[0mWARNING ⚠️ /Users/otpidusmatar/Documents/GitHub/BumperVision/FRC-2024-4/train/images/youtube-34_jpg.rf.f2df8bca8c60a5ca9fbe376d0ff1f8a9.jpg: 1 duplicate labels removed\n",
      "\u001b[34m\u001b[1mtrain: \u001b[0mWARNING ⚠️ /Users/otpidusmatar/Documents/GitHub/BumperVision/FRC-2024-4/train/images/youtube-35_jpg.rf.18759699585f37185e842e14a3be5723.jpg: 1 duplicate labels removed\n",
      "\u001b[34m\u001b[1mtrain: \u001b[0mWARNING ⚠️ /Users/otpidusmatar/Documents/GitHub/BumperVision/FRC-2024-4/train/images/youtube-35_jpg.rf.90b64e4be1f3f27096536bf70f9ff0ac.jpg: 1 duplicate labels removed\n",
      "\u001b[34m\u001b[1mtrain: \u001b[0mWARNING ⚠️ /Users/otpidusmatar/Documents/GitHub/BumperVision/FRC-2024-4/train/images/youtube-35_jpg.rf.bb5071bb7801c77d632003e41e88b443.jpg: 1 duplicate labels removed\n",
      "\u001b[34m\u001b[1mtrain: \u001b[0mWARNING ⚠️ /Users/otpidusmatar/Documents/GitHub/BumperVision/FRC-2024-4/train/images/youtube-373_jpg.rf.26e6881dfe299d754bdaadaed2cdb5e8.jpg: 1 duplicate labels removed\n",
      "\u001b[34m\u001b[1mtrain: \u001b[0mWARNING ⚠️ /Users/otpidusmatar/Documents/GitHub/BumperVision/FRC-2024-4/train/images/youtube-373_jpg.rf.9b251659213757a83737b3a5c458e37f.jpg: 1 duplicate labels removed\n",
      "\u001b[34m\u001b[1mtrain: \u001b[0mWARNING ⚠️ /Users/otpidusmatar/Documents/GitHub/BumperVision/FRC-2024-4/train/images/youtube-373_jpg.rf.c2d9aa3aa140c4b37904bf43ef19ca78.jpg: 1 duplicate labels removed\n",
      "\u001b[34m\u001b[1mtrain: \u001b[0mWARNING ⚠️ /Users/otpidusmatar/Documents/GitHub/BumperVision/FRC-2024-4/train/images/youtube-380_jpg.rf.5ede66e8c577eab1b44259f24b3a47b3.jpg: 1 duplicate labels removed\n",
      "\u001b[34m\u001b[1mtrain: \u001b[0mWARNING ⚠️ /Users/otpidusmatar/Documents/GitHub/BumperVision/FRC-2024-4/train/images/youtube-380_jpg.rf.7bb4116d3bcc1caa8d4e9fddd0c73a87.jpg: 1 duplicate labels removed\n",
      "\u001b[34m\u001b[1mtrain: \u001b[0mWARNING ⚠️ /Users/otpidusmatar/Documents/GitHub/BumperVision/FRC-2024-4/train/images/youtube-380_jpg.rf.e4fa6a4b5a44b5bf970006ce7a9da72b.jpg: 1 duplicate labels removed\n",
      "\u001b[34m\u001b[1mtrain: \u001b[0mWARNING ⚠️ /Users/otpidusmatar/Documents/GitHub/BumperVision/FRC-2024-4/train/images/youtube-395_jpg.rf.0253f6a1858ad8cd1b04dd993476cc7f.jpg: 1 duplicate labels removed\n",
      "\u001b[34m\u001b[1mtrain: \u001b[0mWARNING ⚠️ /Users/otpidusmatar/Documents/GitHub/BumperVision/FRC-2024-4/train/images/youtube-395_jpg.rf.7a21996e0d4b35ffc78367db2dd9c5ac.jpg: 1 duplicate labels removed\n",
      "\u001b[34m\u001b[1mtrain: \u001b[0mWARNING ⚠️ /Users/otpidusmatar/Documents/GitHub/BumperVision/FRC-2024-4/train/images/youtube-395_jpg.rf.b71f68120f9db0d5247a245791a8fe0a.jpg: 1 duplicate labels removed\n",
      "\u001b[34m\u001b[1mtrain: \u001b[0mWARNING ⚠️ /Users/otpidusmatar/Documents/GitHub/BumperVision/FRC-2024-4/train/images/youtube-412_jpg.rf.122db9d4dcbfeafb963ab3f24b712285.jpg: 1 duplicate labels removed\n",
      "\u001b[34m\u001b[1mtrain: \u001b[0mWARNING ⚠️ /Users/otpidusmatar/Documents/GitHub/BumperVision/FRC-2024-4/train/images/youtube-412_jpg.rf.20d6636e967de6c7853244826c9c616b.jpg: 1 duplicate labels removed\n",
      "\u001b[34m\u001b[1mtrain: \u001b[0mWARNING ⚠️ /Users/otpidusmatar/Documents/GitHub/BumperVision/FRC-2024-4/train/images/youtube-412_jpg.rf.bfab130c8e4b089d457b1a877194b08c.jpg: 1 duplicate labels removed\n",
      "\u001b[34m\u001b[1mtrain: \u001b[0mWARNING ⚠️ /Users/otpidusmatar/Documents/GitHub/BumperVision/FRC-2024-4/train/images/youtube-421_jpg.rf.065d5be73c7d3a8dbe73255b153415ba.jpg: 1 duplicate labels removed\n",
      "\u001b[34m\u001b[1mtrain: \u001b[0mWARNING ⚠️ /Users/otpidusmatar/Documents/GitHub/BumperVision/FRC-2024-4/train/images/youtube-421_jpg.rf.14b507eb446929ac65fba97fa87f0db2.jpg: 1 duplicate labels removed\n",
      "\u001b[34m\u001b[1mtrain: \u001b[0mWARNING ⚠️ /Users/otpidusmatar/Documents/GitHub/BumperVision/FRC-2024-4/train/images/youtube-421_jpg.rf.2d8cf8119c0c63854e577d0c29ae3e00.jpg: 1 duplicate labels removed\n",
      "\u001b[34m\u001b[1mtrain: \u001b[0mWARNING ⚠️ /Users/otpidusmatar/Documents/GitHub/BumperVision/FRC-2024-4/train/images/youtube-449_jpg.rf.242c0fc45ca24bf761dc13d778ae6ad5.jpg: 1 duplicate labels removed\n",
      "\u001b[34m\u001b[1mtrain: \u001b[0mWARNING ⚠️ /Users/otpidusmatar/Documents/GitHub/BumperVision/FRC-2024-4/train/images/youtube-449_jpg.rf.35c8bf449362b7c659c961b1bb220ad1.jpg: 1 duplicate labels removed\n",
      "\u001b[34m\u001b[1mtrain: \u001b[0mWARNING ⚠️ /Users/otpidusmatar/Documents/GitHub/BumperVision/FRC-2024-4/train/images/youtube-449_jpg.rf.ec24e5c5ca3c9ecaaad4088e97acfd16.jpg: 1 duplicate labels removed\n",
      "\u001b[34m\u001b[1mtrain: \u001b[0mWARNING ⚠️ /Users/otpidusmatar/Documents/GitHub/BumperVision/FRC-2024-4/train/images/youtube-45_jpg.rf.3ca5cd5183bc72b5131aa1480769d2d6.jpg: 1 duplicate labels removed\n",
      "\u001b[34m\u001b[1mtrain: \u001b[0mWARNING ⚠️ /Users/otpidusmatar/Documents/GitHub/BumperVision/FRC-2024-4/train/images/youtube-45_jpg.rf.956fcbe7438d7c06f8c30b151d770a04.jpg: 1 duplicate labels removed\n",
      "\u001b[34m\u001b[1mtrain: \u001b[0mWARNING ⚠️ /Users/otpidusmatar/Documents/GitHub/BumperVision/FRC-2024-4/train/images/youtube-45_jpg.rf.c349c16dfb3173632e2ba4cbd9c99529.jpg: 1 duplicate labels removed\n",
      "\u001b[34m\u001b[1mtrain: \u001b[0mWARNING ⚠️ /Users/otpidusmatar/Documents/GitHub/BumperVision/FRC-2024-4/train/images/youtube-461_jpg.rf.266e1ce6f45da52cce7510efc15f9bc2.jpg: 1 duplicate labels removed\n",
      "\u001b[34m\u001b[1mtrain: \u001b[0mWARNING ⚠️ /Users/otpidusmatar/Documents/GitHub/BumperVision/FRC-2024-4/train/images/youtube-461_jpg.rf.47dfb39b3cb0115837e68cd44655ad18.jpg: 1 duplicate labels removed\n",
      "\u001b[34m\u001b[1mtrain: \u001b[0mWARNING ⚠️ /Users/otpidusmatar/Documents/GitHub/BumperVision/FRC-2024-4/train/images/youtube-461_jpg.rf.849e9a70dc8dae2d5d64b3095e9d5638.jpg: 1 duplicate labels removed\n",
      "\u001b[34m\u001b[1mtrain: \u001b[0mWARNING ⚠️ /Users/otpidusmatar/Documents/GitHub/BumperVision/FRC-2024-4/train/images/youtube-47_jpg.rf.17b552d8254077d0b115ece2a8143702.jpg: 1 duplicate labels removed\n",
      "\u001b[34m\u001b[1mtrain: \u001b[0mWARNING ⚠️ /Users/otpidusmatar/Documents/GitHub/BumperVision/FRC-2024-4/train/images/youtube-47_jpg.rf.92dafdbf9ae9a18e79e186418fff47b8.jpg: 1 duplicate labels removed\n",
      "\u001b[34m\u001b[1mtrain: \u001b[0mWARNING ⚠️ /Users/otpidusmatar/Documents/GitHub/BumperVision/FRC-2024-4/train/images/youtube-47_jpg.rf.96b0e14a5eae87de2b4bc21f6e661890.jpg: 1 duplicate labels removed\n",
      "\u001b[34m\u001b[1mtrain: \u001b[0mWARNING ⚠️ /Users/otpidusmatar/Documents/GitHub/BumperVision/FRC-2024-4/train/images/youtube-47_jpg.rf.9c9e117b72bcc2a4fc64a57a7c3c68f3.jpg: 1 duplicate labels removed\n",
      "\u001b[34m\u001b[1mtrain: \u001b[0mWARNING ⚠️ /Users/otpidusmatar/Documents/GitHub/BumperVision/FRC-2024-4/train/images/youtube-47_jpg.rf.a900f0eb1c458c227bffe393f3ec4b34.jpg: 1 duplicate labels removed\n",
      "\u001b[34m\u001b[1mtrain: \u001b[0mWARNING ⚠️ /Users/otpidusmatar/Documents/GitHub/BumperVision/FRC-2024-4/train/images/youtube-47_jpg.rf.de8847bb858424290a7c4b222c8604db.jpg: 1 duplicate labels removed\n",
      "\u001b[34m\u001b[1mtrain: \u001b[0mWARNING ⚠️ /Users/otpidusmatar/Documents/GitHub/BumperVision/FRC-2024-4/train/images/youtube-48_jpg.rf.10e1cfba9fb1f1ccd865ab0cce8c692c.jpg: 1 duplicate labels removed\n",
      "\u001b[34m\u001b[1mtrain: \u001b[0mWARNING ⚠️ /Users/otpidusmatar/Documents/GitHub/BumperVision/FRC-2024-4/train/images/youtube-48_jpg.rf.1584555fdd8f681981f7793b35c16c22.jpg: 1 duplicate labels removed\n",
      "\u001b[34m\u001b[1mtrain: \u001b[0mWARNING ⚠️ /Users/otpidusmatar/Documents/GitHub/BumperVision/FRC-2024-4/train/images/youtube-48_jpg.rf.43c0e69f0b787c53538a914113cf8922.jpg: 1 duplicate labels removed\n",
      "\u001b[34m\u001b[1mtrain: \u001b[0mWARNING ⚠️ /Users/otpidusmatar/Documents/GitHub/BumperVision/FRC-2024-4/train/images/youtube-48_jpg.rf.8078e5b8a44b42df43eafa56dccdd4a6.jpg: 1 duplicate labels removed\n",
      "\u001b[34m\u001b[1mtrain: \u001b[0mWARNING ⚠️ /Users/otpidusmatar/Documents/GitHub/BumperVision/FRC-2024-4/train/images/youtube-48_jpg.rf.843bc184a64dfea3218cb2b736b3936c.jpg: 1 duplicate labels removed\n",
      "\u001b[34m\u001b[1mtrain: \u001b[0mWARNING ⚠️ /Users/otpidusmatar/Documents/GitHub/BumperVision/FRC-2024-4/train/images/youtube-48_jpg.rf.8e15075a74be60221b05db073dd44e39.jpg: 1 duplicate labels removed\n",
      "\u001b[34m\u001b[1mtrain: \u001b[0mWARNING ⚠️ /Users/otpidusmatar/Documents/GitHub/BumperVision/FRC-2024-4/train/images/youtube-49_jpg.rf.06692fd3eb7e586910dda45757656412.jpg: 2 duplicate labels removed\n",
      "\u001b[34m\u001b[1mtrain: \u001b[0mWARNING ⚠️ /Users/otpidusmatar/Documents/GitHub/BumperVision/FRC-2024-4/train/images/youtube-49_jpg.rf.4827d6bce2f35483114b670fbcdfc948.jpg: 2 duplicate labels removed\n",
      "\u001b[34m\u001b[1mtrain: \u001b[0mWARNING ⚠️ /Users/otpidusmatar/Documents/GitHub/BumperVision/FRC-2024-4/train/images/youtube-49_jpg.rf.b0833d23aebfaf53c58041df9ac7d7d3.jpg: 2 duplicate labels removed\n",
      "\u001b[34m\u001b[1mtrain: \u001b[0mWARNING ⚠️ /Users/otpidusmatar/Documents/GitHub/BumperVision/FRC-2024-4/train/images/youtube-4_jpg.rf.0fbeec7be62bb1bb78542cec8c2af84e.jpg: 1 duplicate labels removed\n",
      "\u001b[34m\u001b[1mtrain: \u001b[0mWARNING ⚠️ /Users/otpidusmatar/Documents/GitHub/BumperVision/FRC-2024-4/train/images/youtube-4_jpg.rf.70ca1a5c7d9f06398c12ecde9b72afa3.jpg: 1 duplicate labels removed\n",
      "\u001b[34m\u001b[1mtrain: \u001b[0mWARNING ⚠️ /Users/otpidusmatar/Documents/GitHub/BumperVision/FRC-2024-4/train/images/youtube-4_jpg.rf.7a8f919d8cd024f64b739cd4b94fa6ab.jpg: 1 duplicate labels removed\n",
      "\u001b[34m\u001b[1mtrain: \u001b[0mWARNING ⚠️ /Users/otpidusmatar/Documents/GitHub/BumperVision/FRC-2024-4/train/images/youtube-50_jpg.rf.60686894139906e0e751fa3d246cef5b.jpg: 1 duplicate labels removed\n",
      "\u001b[34m\u001b[1mtrain: \u001b[0mWARNING ⚠️ /Users/otpidusmatar/Documents/GitHub/BumperVision/FRC-2024-4/train/images/youtube-50_jpg.rf.a09ff5d29dcdac0a7c6083b3b9621cf8.jpg: 1 duplicate labels removed\n",
      "\u001b[34m\u001b[1mtrain: \u001b[0mWARNING ⚠️ /Users/otpidusmatar/Documents/GitHub/BumperVision/FRC-2024-4/train/images/youtube-50_jpg.rf.c592b5468683783b2c5e941cf29b24e0.jpg: 1 duplicate labels removed\n",
      "\u001b[34m\u001b[1mtrain: \u001b[0mWARNING ⚠️ /Users/otpidusmatar/Documents/GitHub/BumperVision/FRC-2024-4/train/images/youtube-56_jpg.rf.544477ca4ef6af7d13306bda29a479f9.jpg: 4 duplicate labels removed\n",
      "\u001b[34m\u001b[1mtrain: \u001b[0mWARNING ⚠️ /Users/otpidusmatar/Documents/GitHub/BumperVision/FRC-2024-4/train/images/youtube-56_jpg.rf.65874404754b2460bc5b5ca02493a19a.jpg: 4 duplicate labels removed\n",
      "\u001b[34m\u001b[1mtrain: \u001b[0mWARNING ⚠️ /Users/otpidusmatar/Documents/GitHub/BumperVision/FRC-2024-4/train/images/youtube-56_jpg.rf.6f3f7960d783ae9a88fef1b005804055.jpg: 4 duplicate labels removed\n",
      "\u001b[34m\u001b[1mtrain: \u001b[0mWARNING ⚠️ /Users/otpidusmatar/Documents/GitHub/BumperVision/FRC-2024-4/train/images/youtube-58_jpg.rf.3c8a57f697163a93d200c41c3bf124e7.jpg: 1 duplicate labels removed\n",
      "\u001b[34m\u001b[1mtrain: \u001b[0mWARNING ⚠️ /Users/otpidusmatar/Documents/GitHub/BumperVision/FRC-2024-4/train/images/youtube-58_jpg.rf.afbf99d5ec92243fd325bd26cd4fc583.jpg: 1 duplicate labels removed\n",
      "\u001b[34m\u001b[1mtrain: \u001b[0mWARNING ⚠️ /Users/otpidusmatar/Documents/GitHub/BumperVision/FRC-2024-4/train/images/youtube-58_jpg.rf.c6e9a494707a559c9fcea4ab129e7599.jpg: 1 duplicate labels removed\n",
      "\u001b[34m\u001b[1mtrain: \u001b[0mWARNING ⚠️ /Users/otpidusmatar/Documents/GitHub/BumperVision/FRC-2024-4/train/images/youtube-61_jpg.rf.15a36e543f0ec53afb5ccc66e116f624.jpg: 2 duplicate labels removed\n",
      "\u001b[34m\u001b[1mtrain: \u001b[0mWARNING ⚠️ /Users/otpidusmatar/Documents/GitHub/BumperVision/FRC-2024-4/train/images/youtube-61_jpg.rf.2c4ad4f1b6aef0fe14dd803baa43116a.jpg: 2 duplicate labels removed\n",
      "\u001b[34m\u001b[1mtrain: \u001b[0mWARNING ⚠️ /Users/otpidusmatar/Documents/GitHub/BumperVision/FRC-2024-4/train/images/youtube-61_jpg.rf.df05eea76a53b22201d3ec4ed30dfad5.jpg: 2 duplicate labels removed\n",
      "\u001b[34m\u001b[1mtrain: \u001b[0mWARNING ⚠️ /Users/otpidusmatar/Documents/GitHub/BumperVision/FRC-2024-4/train/images/youtube-6_jpg.rf.4ea69a99faa76941ff0a02747d27a15c.jpg: 1 duplicate labels removed\n",
      "\u001b[34m\u001b[1mtrain: \u001b[0mWARNING ⚠️ /Users/otpidusmatar/Documents/GitHub/BumperVision/FRC-2024-4/train/images/youtube-6_jpg.rf.9d3c8776918b0e60ba79aa03f3054216.jpg: 1 duplicate labels removed\n",
      "\u001b[34m\u001b[1mtrain: \u001b[0mWARNING ⚠️ /Users/otpidusmatar/Documents/GitHub/BumperVision/FRC-2024-4/train/images/youtube-6_jpg.rf.caecac23a3af9c841ff608a14fe1b455.jpg: 1 duplicate labels removed\n",
      "\u001b[34m\u001b[1mtrain: \u001b[0mWARNING ⚠️ /Users/otpidusmatar/Documents/GitHub/BumperVision/FRC-2024-4/train/images/youtube-73_jpg.rf.3cba86e76ef0a30faf8629aa3b441342.jpg: 1 duplicate labels removed\n",
      "\u001b[34m\u001b[1mtrain: \u001b[0mWARNING ⚠️ /Users/otpidusmatar/Documents/GitHub/BumperVision/FRC-2024-4/train/images/youtube-73_jpg.rf.7818d01138a5095a9bb01863ec4de7b4.jpg: 1 duplicate labels removed\n",
      "\u001b[34m\u001b[1mtrain: \u001b[0mWARNING ⚠️ /Users/otpidusmatar/Documents/GitHub/BumperVision/FRC-2024-4/train/images/youtube-73_jpg.rf.a1ff926139231a9785b25245e3d6151c.jpg: 1 duplicate labels removed\n",
      "\u001b[34m\u001b[1mtrain: \u001b[0mWARNING ⚠️ /Users/otpidusmatar/Documents/GitHub/BumperVision/FRC-2024-4/train/images/youtube-76_jpg.rf.77eb5a71cbc59464262a68ef18b3bc4f.jpg: 1 duplicate labels removed\n",
      "\u001b[34m\u001b[1mtrain: \u001b[0mWARNING ⚠️ /Users/otpidusmatar/Documents/GitHub/BumperVision/FRC-2024-4/train/images/youtube-76_jpg.rf.c0fbb908e34a17224b39dcc41d46ed2c.jpg: 1 duplicate labels removed\n",
      "\u001b[34m\u001b[1mtrain: \u001b[0mWARNING ⚠️ /Users/otpidusmatar/Documents/GitHub/BumperVision/FRC-2024-4/train/images/youtube-76_jpg.rf.d2368790bfbbf77e793769115a5d6f7c.jpg: 1 duplicate labels removed\n",
      "\u001b[34m\u001b[1mtrain: \u001b[0mWARNING ⚠️ /Users/otpidusmatar/Documents/GitHub/BumperVision/FRC-2024-4/train/images/youtube-80_jpg.rf.7157e0e3c6c2cbc7321b502ed925f37f.jpg: 2 duplicate labels removed\n",
      "\u001b[34m\u001b[1mtrain: \u001b[0mWARNING ⚠️ /Users/otpidusmatar/Documents/GitHub/BumperVision/FRC-2024-4/train/images/youtube-80_jpg.rf.cd82c9452704f8714b86dce3c3f53b36.jpg: 2 duplicate labels removed\n",
      "\u001b[34m\u001b[1mtrain: \u001b[0mWARNING ⚠️ /Users/otpidusmatar/Documents/GitHub/BumperVision/FRC-2024-4/train/images/youtube-80_jpg.rf.e86002472776a14ab3fce376445b15aa.jpg: 1 duplicate labels removed\n",
      "\u001b[34m\u001b[1mtrain: \u001b[0mWARNING ⚠️ /Users/otpidusmatar/Documents/GitHub/BumperVision/FRC-2024-4/train/images/youtube-82_jpg.rf.6c786a2f1b41c57e6dcc6e092180bf5a.jpg: 2 duplicate labels removed\n",
      "\u001b[34m\u001b[1mtrain: \u001b[0mWARNING ⚠️ /Users/otpidusmatar/Documents/GitHub/BumperVision/FRC-2024-4/train/images/youtube-82_jpg.rf.91c364104f8507ceabc77a31b09e995d.jpg: 2 duplicate labels removed\n",
      "\u001b[34m\u001b[1mtrain: \u001b[0mWARNING ⚠️ /Users/otpidusmatar/Documents/GitHub/BumperVision/FRC-2024-4/train/images/youtube-82_jpg.rf.d53d64ddcf972946ad5ae80a3244df30.jpg: 2 duplicate labels removed\n",
      "\u001b[34m\u001b[1mtrain: \u001b[0mWARNING ⚠️ /Users/otpidusmatar/Documents/GitHub/BumperVision/FRC-2024-4/train/images/youtube-87_jpg.rf.4cac378f208420e6addc93fc835b2c78.jpg: 2 duplicate labels removed\n",
      "\u001b[34m\u001b[1mtrain: \u001b[0mWARNING ⚠️ /Users/otpidusmatar/Documents/GitHub/BumperVision/FRC-2024-4/train/images/youtube-87_jpg.rf.de2d67c282e815c3bfd34fe322187202.jpg: 2 duplicate labels removed\n",
      "\u001b[34m\u001b[1mtrain: \u001b[0mWARNING ⚠️ /Users/otpidusmatar/Documents/GitHub/BumperVision/FRC-2024-4/train/images/youtube-87_jpg.rf.e49149896116be6766786dc1fa776cec.jpg: 2 duplicate labels removed\n",
      "\u001b[34m\u001b[1mtrain: \u001b[0mWARNING ⚠️ /Users/otpidusmatar/Documents/GitHub/BumperVision/FRC-2024-4/train/images/youtube-9_jpg.rf.0ae13fef90807a3f4c64cd8aef502fd1.jpg: 2 duplicate labels removed\n",
      "\u001b[34m\u001b[1mtrain: \u001b[0mWARNING ⚠️ /Users/otpidusmatar/Documents/GitHub/BumperVision/FRC-2024-4/train/images/youtube-9_jpg.rf.5aeced905c5b5e1f4c099a5b15167ff5.jpg: 2 duplicate labels removed\n",
      "\u001b[34m\u001b[1mtrain: \u001b[0mWARNING ⚠️ /Users/otpidusmatar/Documents/GitHub/BumperVision/FRC-2024-4/train/images/youtube-9_jpg.rf.9964c39beb32fc7a87b1e87310aee268.jpg: 2 duplicate labels removed\n",
      "Plotting labels to /Users/Shared/Files From d.localized/Blindsight/runs/detect/train4/labels.jpg... \n"
     ]
    },
    {
     "name": "stderr",
     "output_type": "stream",
     "text": [
      "\n"
     ]
    },
    {
     "name": "stdout",
     "output_type": "stream",
     "text": [
      "\u001b[34m\u001b[1moptimizer:\u001b[0m 'optimizer=auto' found, ignoring 'lr0=0.01' and 'momentum=0.937' and determining best 'optimizer', 'lr0' and 'momentum' automatically... \n",
      "\u001b[34m\u001b[1moptimizer:\u001b[0m AdamW(lr=0.001667, momentum=0.9) with parameter groups 57 weight(decay=0.0), 64 weight(decay=0.0005), 63 bias(decay=0.0)\n",
      "\u001b[34m\u001b[1mTensorBoard: \u001b[0mmodel graph visualization added ✅\n",
      "Image sizes 640 train, 640 val\n",
      "Using 0 dataloader workers\n",
      "Logging results to \u001b[1m/Users/Shared/Files From d.localized/Blindsight/runs/detect/train4\u001b[0m\n",
      "Starting training for 5 epochs...\n",
      "\n",
      "      Epoch    GPU_mem   box_loss   cls_loss   dfl_loss  Instances       Size\n"
     ]
    },
    {
     "name": "stderr",
     "output_type": "stream",
     "text": [
      "        1/5         0G     0.8669     0.6981      1.148         17        640: 100%|██████████| 39/39 [05:42<00:00,  8.79s/it]\n",
      "                 Class     Images  Instances      Box(P          R      mAP50  mAP50-95): 100%|██████████| 204/204 [27:17<00:00,  8.03s/it]"
     ]
    },
    {
     "name": "stdout",
     "output_type": "stream",
     "text": [
      "                   all       6510       8119      0.839      0.537       0.59      0.385\n"
     ]
    },
    {
     "name": "stderr",
     "output_type": "stream",
     "text": [
      "\n"
     ]
    },
    {
     "name": "stdout",
     "output_type": "stream",
     "text": [
      "\n",
      "      Epoch    GPU_mem   box_loss   cls_loss   dfl_loss  Instances       Size\n"
     ]
    },
    {
     "name": "stderr",
     "output_type": "stream",
     "text": [
      "        2/5         0G     0.8816     0.6858      1.152         34        640: 100%|██████████| 39/39 [06:50<00:00, 10.52s/it]\n",
      "                 Class     Images  Instances      Box(P          R      mAP50  mAP50-95): 100%|██████████| 204/204 [26:52<00:00,  7.91s/it]"
     ]
    },
    {
     "name": "stdout",
     "output_type": "stream",
     "text": [
      "                   all       6510       8119      0.834       0.52      0.573       0.36\n"
     ]
    },
    {
     "name": "stderr",
     "output_type": "stream",
     "text": [
      "\n"
     ]
    },
    {
     "name": "stdout",
     "output_type": "stream",
     "text": [
      "\n",
      "      Epoch    GPU_mem   box_loss   cls_loss   dfl_loss  Instances       Size\n"
     ]
    },
    {
     "name": "stderr",
     "output_type": "stream",
     "text": [
      "        3/5         0G     0.8791     0.7189      1.159         21        640: 100%|██████████| 39/39 [05:19<00:00,  8.18s/it]\n",
      "                 Class     Images  Instances      Box(P          R      mAP50  mAP50-95): 100%|██████████| 204/204 [24:48<00:00,  7.30s/it]"
     ]
    },
    {
     "name": "stdout",
     "output_type": "stream",
     "text": [
      "                   all       6510       8119      0.798      0.533      0.587      0.377\n"
     ]
    },
    {
     "name": "stderr",
     "output_type": "stream",
     "text": [
      "\n"
     ]
    },
    {
     "name": "stdout",
     "output_type": "stream",
     "text": [
      "\n",
      "      Epoch    GPU_mem   box_loss   cls_loss   dfl_loss  Instances       Size\n"
     ]
    },
    {
     "name": "stderr",
     "output_type": "stream",
     "text": [
      "        4/5         0G      0.855     0.6931      1.144         26        640: 100%|██████████| 39/39 [05:18<00:00,  8.18s/it]\n",
      "                 Class     Images  Instances      Box(P          R      mAP50  mAP50-95): 100%|██████████| 204/204 [24:36<00:00,  7.24s/it]"
     ]
    },
    {
     "name": "stdout",
     "output_type": "stream",
     "text": [
      "                   all       6510       8119      0.804      0.526      0.582      0.374\n"
     ]
    },
    {
     "name": "stderr",
     "output_type": "stream",
     "text": [
      "\n"
     ]
    },
    {
     "name": "stdout",
     "output_type": "stream",
     "text": [
      "\n",
      "      Epoch    GPU_mem   box_loss   cls_loss   dfl_loss  Instances       Size\n"
     ]
    },
    {
     "name": "stderr",
     "output_type": "stream",
     "text": [
      "        5/5         0G     0.8226     0.6469      1.105         41        640: 100%|██████████| 39/39 [05:14<00:00,  8.07s/it]\n",
      "                 Class     Images  Instances      Box(P          R      mAP50  mAP50-95): 100%|██████████| 204/204 [25:12<00:00,  7.41s/it]"
     ]
    },
    {
     "name": "stdout",
     "output_type": "stream",
     "text": [
      "                   all       6510       8119      0.824      0.536      0.602      0.381\n"
     ]
    },
    {
     "name": "stderr",
     "output_type": "stream",
     "text": [
      "\n"
     ]
    },
    {
     "name": "stdout",
     "output_type": "stream",
     "text": [
      "\n",
      "5 epochs completed in 2.623 hours.\n",
      "Optimizer stripped from /Users/Shared/Files From d.localized/Blindsight/runs/detect/train4/weights/last.pt, 6.2MB\n",
      "Optimizer stripped from /Users/Shared/Files From d.localized/Blindsight/runs/detect/train4/weights/best.pt, 6.2MB\n",
      "\n",
      "Validating /Users/Shared/Files From d.localized/Blindsight/runs/detect/train4/weights/best.pt...\n",
      "Ultralytics YOLOv8.1.9 🚀 Python-3.11.5 torch-2.1.2 CPU (Apple M2)\n",
      "Model summary (fused): 168 layers, 3006038 parameters, 0 gradients, 8.1 GFLOPs\n"
     ]
    },
    {
     "name": "stderr",
     "output_type": "stream",
     "text": [
      "                 Class     Images  Instances      Box(P          R      mAP50  mAP50-95): 100%|██████████| 204/204 [23:14<00:00,  6.84s/it]\n"
     ]
    },
    {
     "name": "stdout",
     "output_type": "stream",
     "text": [
      "                   all       6510       8119      0.839      0.537       0.59      0.385\n",
      "                  note       6510       5518      0.901      0.678       0.73      0.494\n",
      "              Bot-Base       6510       2601      0.777      0.396      0.451      0.276\n",
      "Speed: 1.3ms preprocess, 208.9ms inference, 0.0ms loss, 0.3ms postprocess per image\n",
      "Results saved to \u001b[1m/Users/Shared/Files From d.localized/Blindsight/runs/detect/train4\u001b[0m\n"
     ]
    },
    {
     "ename": "AttributeError",
     "evalue": "'DetMetrics' object has no attribute 'export'. See valid attributes below.\n\n    This class is a utility class for computing detection metrics such as precision, recall, and mean average precision\n    (mAP) of an object detection model.\n\n    Args:\n        save_dir (Path): A path to the directory where the output plots will be saved. Defaults to current directory.\n        plot (bool): A flag that indicates whether to plot precision-recall curves for each class. Defaults to False.\n        on_plot (func): An optional callback to pass plots path and data when they are rendered. Defaults to None.\n        names (tuple of str): A tuple of strings that represents the names of the classes. Defaults to an empty tuple.\n\n    Attributes:\n        save_dir (Path): A path to the directory where the output plots will be saved.\n        plot (bool): A flag that indicates whether to plot the precision-recall curves for each class.\n        on_plot (func): An optional callback to pass plots path and data when they are rendered.\n        names (tuple of str): A tuple of strings that represents the names of the classes.\n        box (Metric): An instance of the Metric class for storing the results of the detection metrics.\n        speed (dict): A dictionary for storing the execution time of different parts of the detection process.\n\n    Methods:\n        process(tp, conf, pred_cls, target_cls): Updates the metric results with the latest batch of predictions.\n        keys: Returns a list of keys for accessing the computed detection metrics.\n        mean_results: Returns a list of mean values for the computed detection metrics.\n        class_result(i): Returns a list of values for the computed detection metrics for a specific class.\n        maps: Returns a dictionary of mean average precision (mAP) values for different IoU thresholds.\n        fitness: Computes the fitness score based on the computed detection metrics.\n        ap_class_index: Returns a list of class indices sorted by their average precision (AP) values.\n        results_dict: Returns a dictionary that maps detection metric keys to their computed values.\n        curves: TODO\n        curves_results: TODO\n    ",
     "output_type": "error",
     "traceback": [
      "\u001b[0;31m---------------------------------------------------------------------------\u001b[0m",
      "\u001b[0;31mAttributeError\u001b[0m                            Traceback (most recent call last)",
      "\u001b[1;32m/Users/otpidusmatar/Documents/GitHub/BumperVision/train.ipynb Cell 3\u001b[0m line \u001b[0;36m3\n\u001b[1;32m      <a href='vscode-notebook-cell:/Users/otpidusmatar/Documents/GitHub/BumperVision/train.ipynb#W2sZmlsZQ%3D%3D?line=0'>1</a>\u001b[0m model \u001b[39m=\u001b[39m YOLO(\u001b[39m\"\u001b[39m\u001b[39mmain/yolo/model/v2noteandbumpermodel.pt\u001b[39m\u001b[39m\"\u001b[39m)\n\u001b[1;32m      <a href='vscode-notebook-cell:/Users/otpidusmatar/Documents/GitHub/BumperVision/train.ipynb#W2sZmlsZQ%3D%3D?line=1'>2</a>\u001b[0m model \u001b[39m=\u001b[39m model\u001b[39m.\u001b[39mtrain(data\u001b[39m=\u001b[39m\u001b[39m\"\u001b[39m\u001b[39m/Users/otpidusmatar/Documents/GitHub/BumperVision/FRC-2024-4/data.yaml\u001b[39m\u001b[39m\"\u001b[39m, epochs\u001b[39m=\u001b[39m\u001b[39m5\u001b[39m)\n\u001b[0;32m----> <a href='vscode-notebook-cell:/Users/otpidusmatar/Documents/GitHub/BumperVision/train.ipynb#W2sZmlsZQ%3D%3D?line=2'>3</a>\u001b[0m model\u001b[39m.\u001b[39mexport()\n",
      "File \u001b[0;32m~/anaconda3/lib/python3.11/site-packages/ultralytics/utils/__init__.py:156\u001b[0m, in \u001b[0;36mSimpleClass.__getattr__\u001b[0;34m(self, attr)\u001b[0m\n\u001b[1;32m    154\u001b[0m \u001b[39m\u001b[39m\u001b[39m\"\"\"Custom attribute access error message with helpful information.\"\"\"\u001b[39;00m\n\u001b[1;32m    155\u001b[0m name \u001b[39m=\u001b[39m \u001b[39mself\u001b[39m\u001b[39m.\u001b[39m\u001b[39m__class__\u001b[39m\u001b[39m.\u001b[39m\u001b[39m__name__\u001b[39m\n\u001b[0;32m--> 156\u001b[0m \u001b[39mraise\u001b[39;00m \u001b[39mAttributeError\u001b[39;00m(\u001b[39mf\u001b[39m\u001b[39m\"\u001b[39m\u001b[39m'\u001b[39m\u001b[39m{\u001b[39;00mname\u001b[39m}\u001b[39;00m\u001b[39m'\u001b[39m\u001b[39m object has no attribute \u001b[39m\u001b[39m'\u001b[39m\u001b[39m{\u001b[39;00mattr\u001b[39m}\u001b[39;00m\u001b[39m'\u001b[39m\u001b[39m. See valid attributes below.\u001b[39m\u001b[39m\\n\u001b[39;00m\u001b[39m{\u001b[39;00m\u001b[39mself\u001b[39m\u001b[39m.\u001b[39m\u001b[39m__doc__\u001b[39m\u001b[39m}\u001b[39;00m\u001b[39m\"\u001b[39m)\n",
      "\u001b[0;31mAttributeError\u001b[0m: 'DetMetrics' object has no attribute 'export'. See valid attributes below.\n\n    This class is a utility class for computing detection metrics such as precision, recall, and mean average precision\n    (mAP) of an object detection model.\n\n    Args:\n        save_dir (Path): A path to the directory where the output plots will be saved. Defaults to current directory.\n        plot (bool): A flag that indicates whether to plot precision-recall curves for each class. Defaults to False.\n        on_plot (func): An optional callback to pass plots path and data when they are rendered. Defaults to None.\n        names (tuple of str): A tuple of strings that represents the names of the classes. Defaults to an empty tuple.\n\n    Attributes:\n        save_dir (Path): A path to the directory where the output plots will be saved.\n        plot (bool): A flag that indicates whether to plot the precision-recall curves for each class.\n        on_plot (func): An optional callback to pass plots path and data when they are rendered.\n        names (tuple of str): A tuple of strings that represents the names of the classes.\n        box (Metric): An instance of the Metric class for storing the results of the detection metrics.\n        speed (dict): A dictionary for storing the execution time of different parts of the detection process.\n\n    Methods:\n        process(tp, conf, pred_cls, target_cls): Updates the metric results with the latest batch of predictions.\n        keys: Returns a list of keys for accessing the computed detection metrics.\n        mean_results: Returns a list of mean values for the computed detection metrics.\n        class_result(i): Returns a list of values for the computed detection metrics for a specific class.\n        maps: Returns a dictionary of mean average precision (mAP) values for different IoU thresholds.\n        fitness: Computes the fitness score based on the computed detection metrics.\n        ap_class_index: Returns a list of class indices sorted by their average precision (AP) values.\n        results_dict: Returns a dictionary that maps detection metric keys to their computed values.\n        curves: TODO\n        curves_results: TODO\n    "
     ]
    }
   ],
   "source": [
    "model = YOLO(\"main/yolo/model/v2noteandbumpermodel.pt\")\n",
    "model = model.train(data=\"path/to/data.yaml\", epochs=5)\n",
    "model.export()"
   ]
  }
 ],
 "metadata": {
  "kernelspec": {
   "display_name": "base",
   "language": "python",
   "name": "python3"
  },
  "language_info": {
   "codemirror_mode": {
    "name": "ipython",
    "version": 3
   },
   "file_extension": ".py",
   "mimetype": "text/x-python",
   "name": "python",
   "nbconvert_exporter": "python",
   "pygments_lexer": "ipython3",
   "version": "3.11.5"
  }
 },
 "nbformat": 4,
 "nbformat_minor": 2
}
